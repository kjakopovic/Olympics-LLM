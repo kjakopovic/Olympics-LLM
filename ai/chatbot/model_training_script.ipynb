{
 "cells": [
  {
   "cell_type": "code",
   "execution_count": 2,
   "metadata": {
    "ExecuteTime": {
     "end_time": "2025-01-08T07:46:28.239985Z",
     "start_time": "2025-01-08T07:46:28.234243Z"
    }
   },
   "outputs": [],
   "source": [
    "# %pip install accelerate # charset-normalizer  # pandas python-dotenv transformers\n",
    "# %pip install --upgrade accelerate"
   ]
  },
  {
   "cell_type": "code",
   "execution_count": null,
   "metadata": {
    "ExecuteTime": {
     "end_time": "2025-01-08T07:46:28.327944Z",
     "start_time": "2025-01-08T07:46:28.321497Z"
    }
   },
   "outputs": [],
   "source": [
    "from transformers import AutoTokenizer, AutoModelForCausalLM\n",
    "from dotenv import load_dotenv\n",
    "\n",
    "import utils\n",
    "import data_utils\n",
    "import trainer_utils"
   ]
  },
  {
   "cell_type": "code",
   "execution_count": 2,
   "metadata": {},
   "outputs": [],
   "source": [
    "MODEL_ID = \"gpt2-medium\"\n",
    "DISHES_DATASET_DIR = \"data/dishes.csv\"\n",
    "MODEL_OUTPUT_DIR = \"model/gpt2-medium-food-v2\"\n",
    "BACKEND_API_MODEL_DIR = \"../apis/model/gpt-v2\"\n",
    "AI_QUESTION = \"What is the most eaten food in Bosnia?\""
   ]
  },
  {
   "cell_type": "code",
   "execution_count": null,
   "metadata": {},
   "outputs": [],
   "source": [
    "load_dotenv()\n",
    "\n",
    "utils.login_to_huggingface()\n",
    "\n",
    "device = utils.get_cuda_device()"
   ]
  },
  {
   "cell_type": "code",
   "execution_count": null,
   "metadata": {},
   "outputs": [],
   "source": [
    "utils.ask_ai(AI_QUESTION, MODEL_ID, None, device)"
   ]
  },
  {
   "cell_type": "code",
   "execution_count": null,
   "metadata": {},
   "outputs": [],
   "source": [
    "# Load the pretrained text-generation model and tokenizer\n",
    "model = AutoModelForCausalLM.from_pretrained(\n",
    "    MODEL_ID\n",
    ").to(device)\n",
    "tokenizer = AutoTokenizer.from_pretrained(MODEL_ID)\n",
    "\n",
    "# Ensure padding tokens are set\n",
    "if tokenizer.pad_token is None:\n",
    "    tokenizer.pad_token = tokenizer.eos_token\n",
    "\n",
    "# Loading dataset\n",
    "sentences = data_utils.transform_dataset_into_sentences(DISHES_DATASET_DIR)\n",
    "\n",
    "trainer_utils.train_model(model, tokenizer, sentences, MODEL_OUTPUT_DIR, device)"
   ]
  },
  {
   "cell_type": "code",
   "execution_count": null,
   "metadata": {},
   "outputs": [],
   "source": [
    "utils.ask_ai(AI_QUESTION, model, tokenizer, device)"
   ]
  },
  {
   "cell_type": "code",
   "execution_count": null,
   "metadata": {},
   "outputs": [],
   "source": [
    "utils.load_model_to_backend_api(MODEL_OUTPUT_DIR, BACKEND_API_MODEL_DIR)"
   ]
  }
 ],
 "metadata": {
  "kernelspec": {
   "display_name": "Python 3",
   "language": "python",
   "name": "python3"
  },
  "language_info": {
   "codemirror_mode": {
    "name": "ipython",
    "version": 3
   },
   "file_extension": ".py",
   "mimetype": "text/x-python",
   "name": "python",
   "nbconvert_exporter": "python",
   "pygments_lexer": "ipython3",
   "version": "3.12.5"
  }
 },
 "nbformat": 4,
 "nbformat_minor": 2
}
