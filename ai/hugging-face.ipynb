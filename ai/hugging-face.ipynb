{
 "cells": [
  {
   "cell_type": "code",
   "execution_count": null,
   "metadata": {},
   "outputs": [
    {
     "name": "stdout",
     "output_type": "stream",
     "text": [
      "Requirement already satisfied: charset-normalizer in c:\\compilers\\python\\lib\\site-packages (3.3.2)\n",
      "Note: you may need to restart the kernel to use updated packages.\n"
     ]
    },
    {
     "name": "stderr",
     "output_type": "stream",
     "text": [
      "\n",
      "[notice] A new release of pip is available: 24.2 -> 24.3.1\n",
      "[notice] To update, run: python.exe -m pip install --upgrade pip\n"
     ]
    }
   ],
   "source": [
    "%pip install charset-normalizer  # pandas python-dotenv transformers"
   ]
  },
  {
   "cell_type": "code",
   "execution_count": 2,
   "metadata": {},
   "outputs": [
    {
     "name": "stderr",
     "output_type": "stream",
     "text": [
      "c:\\Compilers\\Python\\Lib\\site-packages\\tqdm\\auto.py:21: TqdmWarning: IProgress not found. Please update jupyter and ipywidgets. See https://ipywidgets.readthedocs.io/en/stable/user_install.html\n",
      "  from .autonotebook import tqdm as notebook_tqdm\n"
     ]
    }
   ],
   "source": [
    "from transformers import pipeline\n",
    "from transformers import AutoTokenizer, AutoModelForSequenceClassification\n",
    "from huggingface_hub import login\n",
    "from dotenv import load_dotenv\n",
    "\n",
    "import pandas as pd\n",
    "\n",
    "import torch\n",
    "import os"
   ]
  },
  {
   "cell_type": "code",
   "execution_count": 3,
   "metadata": {},
   "outputs": [],
   "source": [
    "# Load environment variables from .env file\n",
    "load_dotenv()\n",
    "\n",
    "token = os.getenv(\"HUGGINGFACE_API_TOKEN\")\n",
    "\n",
    "login(token)"
   ]
  },
  {
   "cell_type": "code",
   "execution_count": null,
   "metadata": {},
   "outputs": [
    {
     "name": "stderr",
     "output_type": "stream",
     "text": [
      "Truncation was not explicitly activated but `max_length` is provided a specific value, please use `truncation=True` to explicitly truncate examples to max length. Defaulting to 'longest_first' truncation strategy. If you encode pairs of sequences (GLUE-style) with the tokenizer you can select this strategy more precisely by providing a specific strategy to `truncation`.\n",
      "Setting `pad_token_id` to `eos_token_id`:None for open-end generation.\n"
     ]
    }
   ],
   "source": [
    "model_id = \"meta-llama/Llama-3.2-1B\"\n",
    "\n",
    "pipe = pipeline(\n",
    "    \"text-generation\", \n",
    "    model=model_id, \n",
    "    torch_dtype=torch.bfloat16,\n",
    "    max_length=50\n",
    ")\n",
    "\n",
    "response = pipe(\"What is the most common eaten foodstuff in USA, Los Angeles?\", return_full_text=False)\n",
    "# TODO: pogledat pipe, zasto se dogada repeatanje\n",
    "response"
   ]
  },
  {
   "cell_type": "code",
   "execution_count": null,
   "metadata": {},
   "outputs": [
    {
     "name": "stdout",
     "output_type": "stream",
     "text": [
      "Detected encoding: None\n"
     ]
    }
   ],
   "source": [
    "from charset_normalizer import detect\n",
    "\n",
    "# Read a sample of the file\n",
    "with open('data/Foodex1.csv', 'rb') as file:\n",
    "    raw_data = file.read()\n",
    "\n",
    "# Detect encoding\n",
    "result = detect(raw_data)\n",
    "print(f\"Detected encoding: {result['encoding']}\")\n",
    "\n",
    "encoding = result['encoding']"
   ]
  },
  {
   "cell_type": "code",
   "execution_count": 27,
   "metadata": {},
   "outputs": [
    {
     "name": "stdout",
     "output_type": "stream",
     "text": [
      "In Afghanistan the most eaten food is Wheat and products\n",
      "In Albania the most eaten food is Milk - Excluding Butter\n",
      "In Algeria the most eaten food is Wheat and products\n",
      "In Angola the most eaten food is Cassava and products\n",
      "In Antigua and Barbuda the most eaten food is Fruits, other\n",
      "In Argentina the most eaten food is Maize and products\n",
      "In Armenia the most eaten food is Milk - Excluding Butter\n",
      "In Australia the most eaten food is Milk - Excluding Butter\n",
      "In Austria the most eaten food is Milk - Excluding Butter\n",
      "In Azerbaijan the most eaten food is Wheat and products\n",
      "In Bahamas the most eaten food is Vegetables, other\n",
      "In Bahrain the most eaten food is Milk - Excluding Butter\n",
      "In Bangladesh the most eaten food is Rice and products\n",
      "In Barbados the most eaten food is Sugar cane\n",
      "In Belarus the most eaten food is Potatoes and products\n",
      "In Belgium the most eaten food is Milk - Excluding Butter\n",
      "In Belize the most eaten food is Sugar cane\n",
      "In Benin the most eaten food is Yams\n",
      "In Bhutan the most eaten food is Rice and products\n",
      "In Bolivia (Plurinational State of) the most eaten food is Potatoes and products\n",
      "In Bosnia and Herzegovina the most eaten food is Maize and products\n",
      "In Botswana the most eaten food is Beer\n",
      "In Brazil the most eaten food is Maize and products\n",
      "In Bulgaria the most eaten food is Milk - Excluding Butter\n",
      "In Burkina Faso the most eaten food is Beverages, Fermented\n",
      "In Burundi the most eaten food is Cassava and products\n",
      "In Cabo Verde the most eaten food is Milk - Excluding Butter\n",
      "In Cambodia the most eaten food is Rice and products\n",
      "In Cameroon the most eaten food is Cassava and products\n",
      "In Canada the most eaten food is Wheat and products\n",
      "In Central African Republic the most eaten food is Cassava and products\n",
      "In Chad the most eaten food is Sorghum and products\n",
      "In Chile the most eaten food is Maize and products\n",
      "In China the most eaten food is Vegetables, other\n",
      "In China, Hong Kong SAR the most eaten food is Vegetables, other\n",
      "In China, Macao SAR the most eaten food is Vegetables, other\n",
      "In China, mainland the most eaten food is Vegetables, other\n",
      "In China, Taiwan Province of the most eaten food is Maize and products\n",
      "In Colombia the most eaten food is Milk - Excluding Butter\n",
      "In Comoros the most eaten food is Rice and products\n",
      "In Congo the most eaten food is Cassava and products\n",
      "In Costa Rica the most eaten food is Milk - Excluding Butter\n",
      "In Côte d'Ivoire the most eaten food is Yams\n",
      "In Croatia the most eaten food is Vegetables, other\n",
      "In Cuba the most eaten food is Sugar cane\n",
      "In Cyprus the most eaten food is Maize and products\n",
      "In Czechia the most eaten food is Milk - Excluding Butter\n",
      "In Democratic Republic of the Congo the most eaten food is Cassava and products\n",
      "In Denmark the most eaten food is Wheat and products\n",
      "In Djibouti the most eaten food is Wheat and products\n",
      "In Dominica the most eaten food is Roots, Other\n",
      "In Dominican Republic the most eaten food is Fruits, other\n",
      "In Ecuador the most eaten food is Milk - Excluding Butter\n",
      "In Egypt the most eaten food is Wheat and products\n",
      "In El Salvador the most eaten food is Milk - Excluding Butter\n",
      "In Estonia the most eaten food is Milk - Excluding Butter\n",
      "In Eswatini the most eaten food is Maize and products\n",
      "In Ethiopia the most eaten food is Maize and products\n",
      "In Fiji the most eaten food is Sugar cane\n",
      "In Finland the most eaten food is Milk - Excluding Butter\n",
      "In France the most eaten food is Milk - Excluding Butter\n",
      "In French Polynesia the most eaten food is Milk - Excluding Butter\n",
      "In Gabon the most eaten food is Plantains\n",
      "In Gambia the most eaten food is Rice and products\n",
      "In Georgia the most eaten food is Milk - Excluding Butter\n",
      "In Germany the most eaten food is Milk - Excluding Butter\n",
      "In Ghana the most eaten food is Cassava and products\n",
      "In Greece the most eaten food is Milk - Excluding Butter\n",
      "In Grenada the most eaten food is Milk - Excluding Butter\n",
      "In Guatemala the most eaten food is Maize and products\n",
      "In Guinea the most eaten food is Rice and products\n",
      "In Guinea-Bissau the most eaten food is Rice and products\n",
      "In Guyana the most eaten food is Vegetables, other\n",
      "In Haiti the most eaten food is Rice and products\n",
      "In Honduras the most eaten food is Maize and products\n",
      "In Hungary the most eaten food is Maize and products\n",
      "In Iceland the most eaten food is Milk - Excluding Butter\n",
      "In India the most eaten food is Rice and products\n",
      "In Indonesia the most eaten food is Rice and products\n",
      "In Iran (Islamic Republic of) the most eaten food is Wheat and products\n",
      "In Iraq the most eaten food is Wheat and products\n",
      "In Ireland the most eaten food is Wheat and products\n",
      "In Israel the most eaten food is Maize and products\n",
      "In Italy the most eaten food is Milk - Excluding Butter\n",
      "In Jamaica the most eaten food is Maize and products\n",
      "In Japan the most eaten food is Maize and products\n",
      "In Jordan the most eaten food is Maize and products\n",
      "In Kazakhstan the most eaten food is Milk - Excluding Butter\n",
      "In Kenya the most eaten food is Milk - Excluding Butter\n",
      "In Kiribati the most eaten food is Coconuts - Incl Copra\n",
      "In Kuwait the most eaten food is Milk - Excluding Butter\n",
      "In Kyrgyzstan the most eaten food is Milk - Excluding Butter\n",
      "In Lao People's Democratic Republic the most eaten food is Roots, Other\n",
      "In Latvia the most eaten food is Milk - Excluding Butter\n",
      "In Lebanon the most eaten food is Wheat and products\n",
      "In Lesotho the most eaten food is Milk - Excluding Butter\n",
      "In Liberia the most eaten food is Rice and products\n",
      "In Libya the most eaten food is Milk - Excluding Butter\n",
      "In Lithuania the most eaten food is Milk - Excluding Butter\n",
      "In Luxembourg the most eaten food is Milk - Excluding Butter\n",
      "In Madagascar the most eaten food is Rice and products\n",
      "In Malawi the most eaten food is Sweet potatoes\n",
      "In Malaysia the most eaten food is Rice and products\n",
      "In Maldives the most eaten food is Vegetables, other\n",
      "In Mali the most eaten food is Vegetables, other\n",
      "In Malta the most eaten food is Milk - Excluding Butter\n",
      "In Marshall Islands the most eaten food is Coconuts - Incl Copra\n",
      "In Mauritania the most eaten food is Wheat and products\n",
      "In Mauritius the most eaten food is Milk - Excluding Butter\n",
      "In Mexico the most eaten food is Maize and products\n",
      "In Micronesia (Federated States of) the most eaten food is Coconuts - Incl Copra\n",
      "In Mongolia the most eaten food is Milk - Excluding Butter\n",
      "In Montenegro the most eaten food is Milk - Excluding Butter\n",
      "In Morocco the most eaten food is Wheat and products\n",
      "In Mozambique the most eaten food is Cassava and products\n",
      "In Myanmar the most eaten food is Rice and products\n",
      "In Namibia the most eaten food is Maize and products\n",
      "In Nauru the most eaten food is Coconuts - Incl Copra\n",
      "In Nepal the most eaten food is Rice and products\n",
      "In Netherlands (Kingdom of the) the most eaten food is Milk - Excluding Butter\n",
      "In New Caledonia the most eaten food is Wheat and products\n",
      "In New Zealand the most eaten food is Milk - Excluding Butter\n",
      "In Nicaragua the most eaten food is Milk - Excluding Butter\n",
      "In Niger the most eaten food is Millet and products\n",
      "In Nigeria the most eaten food is Cassava and products\n",
      "In North Macedonia the most eaten food is Vegetables, other\n",
      "In Norway the most eaten food is Milk - Excluding Butter\n",
      "In Oman the most eaten food is Milk - Excluding Butter\n",
      "In Pakistan the most eaten food is Milk - Excluding Butter\n",
      "In Panama the most eaten food is Maize and products\n",
      "In Papua New Guinea the most eaten food is Bananas\n",
      "In Paraguay the most eaten food is Sugar cane\n",
      "In Peru the most eaten food is Maize and products\n",
      "In Philippines the most eaten food is Rice and products\n",
      "In Poland the most eaten food is Milk - Excluding Butter\n",
      "In Portugal the most eaten food is Maize and products\n",
      "In Qatar the most eaten food is Wheat and products\n",
      "In Republic of Korea the most eaten food is Vegetables, other\n",
      "In Republic of Moldova the most eaten food is Maize and products\n",
      "In Romania the most eaten food is Maize and products\n",
      "In Russian Federation the most eaten food is Milk - Excluding Butter\n",
      "In Rwanda the most eaten food is Bananas\n",
      "In Saint Kitts and Nevis the most eaten food is Wheat and products\n",
      "In Saint Lucia the most eaten food is Wheat and products\n",
      "In Saint Vincent and the Grenadines the most eaten food is Bananas\n",
      "In Samoa the most eaten food is Roots, Other\n",
      "In Sao Tome and Principe the most eaten food is Plantains\n",
      "In Saudi Arabia the most eaten food is Wheat and products\n",
      "In Senegal the most eaten food is Rice and products\n",
      "In Serbia the most eaten food is Maize and products\n",
      "In Seychelles the most eaten food is Wheat and products\n",
      "In Sierra Leone the most eaten food is Cassava and products\n",
      "In Slovakia the most eaten food is Milk - Excluding Butter\n",
      "In Slovenia the most eaten food is Milk - Excluding Butter\n",
      "In Solomon Islands the most eaten food is Sweet potatoes\n",
      "In Somalia the most eaten food is Milk - Excluding Butter\n",
      "In South Africa the most eaten food is Maize and products\n",
      "In South Sudan the most eaten food is Milk - Excluding Butter\n",
      "In Spain the most eaten food is Maize and products\n",
      "In Sri Lanka the most eaten food is Rice and products\n",
      "In Sudan the most eaten food is Milk - Excluding Butter\n",
      "In Suriname the most eaten food is Rice and products\n",
      "In Sweden the most eaten food is Milk - Excluding Butter\n",
      "In Switzerland the most eaten food is Milk - Excluding Butter\n",
      "In Syrian Arab Republic the most eaten food is Wheat and products\n",
      "In Tajikistan the most eaten food is Vegetables, other\n",
      "In Thailand the most eaten food is Rice and products\n",
      "In Timor-Leste the most eaten food is Rice and products\n",
      "In Togo the most eaten food is Cassava and products\n",
      "In Tonga the most eaten food is Vegetables, other\n",
      "In Trinidad and Tobago the most eaten food is Wheat and products\n",
      "In Tunisia the most eaten food is Wheat and products\n",
      "In Türkiye the most eaten food is Milk - Excluding Butter\n",
      "In Turkmenistan the most eaten food is Milk - Excluding Butter\n",
      "In Tuvalu the most eaten food is Wheat and products\n",
      "In Uganda the most eaten food is Plantains\n",
      "In Ukraine the most eaten food is Potatoes and products\n",
      "In United Arab Emirates the most eaten food is Milk - Excluding Butter\n",
      "In United Kingdom of Great Britain and Northern Ireland the most eaten food is Milk - Excluding Butter\n",
      "In United Republic of Tanzania the most eaten food is Cassava and products\n",
      "In United States of America the most eaten food is Maize and products\n",
      "In Uruguay the most eaten food is Milk - Excluding Butter\n",
      "In Uzbekistan the most eaten food is Milk - Excluding Butter\n",
      "In Vanuatu the most eaten food is Coconuts - Incl Copra\n",
      "In Venezuela (Bolivarian Republic of) the most eaten food is Milk - Excluding Butter\n",
      "In Viet Nam the most eaten food is Rice and products\n",
      "In Yemen the most eaten food is Wheat and products\n",
      "In Zambia the most eaten food is Cassava and products\n",
      "In Zimbabwe the most eaten food is Maize and products\n"
     ]
    }
   ],
   "source": [
    "# Data scouting\n",
    "\n",
    "# ISTO JAKO DOBAR DATASET\n",
    "# harvard_dataset = pd.read_csv(\"data/edible_food_2011.csv\")\n",
    "# # harvard_dataset.columns.tolist()\n",
    "# print(len(harvard_dataset['Unnamed: 1'].unique().tolist())) # Ima podosta dobrih podataka za 177 drzava\n",
    "\n",
    "# ZA SADA NAJBOLJI:\n",
    "faostat = pd.read_csv(\"data/FAOSTAT_food_consumption.csv\")\n",
    "# print(faostat['Item'].unique())\n",
    "# faostat[faostat['Area'] == 'Afghanistan'].head(50)\n",
    "\n",
    "faostat_filtered_units = faostat[faostat['Unit'] == '1000 t']\n",
    "\n",
    "faostat_filtered_units = faostat_filtered_units[faostat_filtered_units['Value'] > 0]\n",
    "\n",
    "unique_countries = faostat_filtered_units['Area'].unique()\n",
    "\n",
    "for country in unique_countries:\n",
    "    country_data = faostat_filtered_units[faostat_filtered_units['Area'] == country]\n",
    "\n",
    "    most_eaten_food = country_data[country_data['Value'] == country_data['Value'].max()]['Item'].values[0]\n",
    "\n",
    "    print(f\"In {country} the most eaten food is {most_eaten_food}\")"
   ]
  },
  {
   "cell_type": "code",
   "execution_count": null,
   "metadata": {},
   "outputs": [],
   "source": []
  },
  {
   "cell_type": "code",
   "execution_count": null,
   "metadata": {},
   "outputs": [
    {
     "name": "stderr",
     "output_type": "stream",
     "text": [
      "Some weights of LlamaForSequenceClassification were not initialized from the model checkpoint at meta-llama/Llama-3.2-1B and are newly initialized: ['score.weight']\n",
      "You should probably TRAIN this model on a down-stream task to be able to use it for predictions and inference.\n"
     ]
    },
    {
     "name": "stdout",
     "output_type": "stream",
     "text": [
      "{'input_ids': tensor([[128000,   2028,    374,  13643,   4037,   1534,  10550]]), 'attention_mask': tensor([[1, 1, 1, 1, 1, 1, 1]])}\n"
     ]
    }
   ],
   "source": [
    "# Finetuning with our data\n",
    "\n",
    "# 1. load pretrained Tokenizer, call it with dataset (encode the dataset)\n",
    "model = AutoModelForSequenceClassification.from_pretrained(model_id)\n",
    "tokenizer = AutoTokenizer.from_pretrained(model_id)\n",
    "\n",
    "sequence = \"This is temporary tokenized dataset\"\n",
    "tokenized_dataset = tokenizer(sequence, return_tensors=\"pt\")\n",
    "print(tokenized_dataset)\n",
    "\n",
    "# training_args = TrainingArguments(\"trainer\")\n",
    "\n",
    "# trainer = Trainer(\n",
    "#     model,\n",
    "#     training_args,\n",
    "#     train_dataset=dataset[\"train\"],\n",
    "#     eval_dataset=dataset[\"validation\"],\n",
    "#     data_collator=data_collator,\n",
    "#     tokenizer=tokenizer,\n",
    "# )\n",
    "\n",
    "# trainer.train()"
   ]
  },
  {
   "cell_type": "code",
   "execution_count": null,
   "metadata": {},
   "outputs": [],
   "source": [
    "# Fine-tuned model\n",
    "\n",
    "classifier = pipeline(\n",
    "    \"text-generation\", \n",
    "    model=model,\n",
    "    tokenizer=tokenizer,\n",
    "    torch_dtype=torch.bfloat16,\n",
    "    max_length=50\n",
    ")"
   ]
  },
  {
   "cell_type": "code",
   "execution_count": null,
   "metadata": {},
   "outputs": [],
   "source": [
    "# Save model\n",
    "model.save_pretrained(\"meta-llama/Llama-3.2-1B\")\n",
    "\n",
    "# Load model\n",
    "model = AutoModelForSequenceClassification.from_pretrained(\"meta-llama/Llama-3.2-1B\")"
   ]
  }
 ],
 "metadata": {
  "kernelspec": {
   "display_name": "Python 3",
   "language": "python",
   "name": "python3"
  },
  "language_info": {
   "codemirror_mode": {
    "name": "ipython",
    "version": 3
   },
   "file_extension": ".py",
   "mimetype": "text/x-python",
   "name": "python",
   "nbconvert_exporter": "python",
   "pygments_lexer": "ipython3",
   "version": "3.12.5"
  }
 },
 "nbformat": 4,
 "nbformat_minor": 2
}
